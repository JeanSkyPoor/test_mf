{
 "cells": [
  {
   "cell_type": "code",
   "execution_count": 1,
   "metadata": {},
   "outputs": [],
   "source": [
    "import pandas as pd\n",
    "import numpy as np"
   ]
  },
  {
   "cell_type": "code",
   "execution_count": 2,
   "metadata": {},
   "outputs": [
    {
     "data": {
      "text/html": [
       "<div>\n",
       "<style scoped>\n",
       "    .dataframe tbody tr th:only-of-type {\n",
       "        vertical-align: middle;\n",
       "    }\n",
       "\n",
       "    .dataframe tbody tr th {\n",
       "        vertical-align: top;\n",
       "    }\n",
       "\n",
       "    .dataframe thead th {\n",
       "        text-align: right;\n",
       "    }\n",
       "</style>\n",
       "<table border=\"1\" class=\"dataframe\">\n",
       "  <thead>\n",
       "    <tr style=\"text-align: right;\">\n",
       "      <th></th>\n",
       "      <th>Product</th>\n",
       "      <th>Region</th>\n",
       "      <th>Sales</th>\n",
       "    </tr>\n",
       "  </thead>\n",
       "  <tbody>\n",
       "    <tr>\n",
       "      <th>0</th>\n",
       "      <td>Product A</td>\n",
       "      <td>North</td>\n",
       "      <td>100</td>\n",
       "    </tr>\n",
       "    <tr>\n",
       "      <th>1</th>\n",
       "      <td>Product B</td>\n",
       "      <td>North</td>\n",
       "      <td>200</td>\n",
       "    </tr>\n",
       "    <tr>\n",
       "      <th>2</th>\n",
       "      <td>Product C</td>\n",
       "      <td>South</td>\n",
       "      <td>150</td>\n",
       "    </tr>\n",
       "    <tr>\n",
       "      <th>3</th>\n",
       "      <td>Product D</td>\n",
       "      <td>South</td>\n",
       "      <td>50</td>\n",
       "    </tr>\n",
       "    <tr>\n",
       "      <th>4</th>\n",
       "      <td>Product E</td>\n",
       "      <td>East</td>\n",
       "      <td>75</td>\n",
       "    </tr>\n",
       "    <tr>\n",
       "      <th>5</th>\n",
       "      <td>Product F</td>\n",
       "      <td>West</td>\n",
       "      <td>125</td>\n",
       "    </tr>\n",
       "  </tbody>\n",
       "</table>\n",
       "</div>"
      ],
      "text/plain": [
       "     Product Region  Sales\n",
       "0  Product A  North    100\n",
       "1  Product B  North    200\n",
       "2  Product C  South    150\n",
       "3  Product D  South     50\n",
       "4  Product E   East     75\n",
       "5  Product F   West    125"
      ]
     },
     "execution_count": 2,
     "metadata": {},
     "output_type": "execute_result"
    }
   ],
   "source": [
    "df_main = pd.DataFrame(\n",
    "    {\n",
    "        \"Product\": [\n",
    "            \"Product A\",\n",
    "            \"Product B\",\n",
    "            \"Product C\",\n",
    "            \"Product D\",\n",
    "            \"Product E\",\n",
    "            \"Product F\",\n",
    "        ],\n",
    "        \"Region\": [\n",
    "            \"North\",\n",
    "            \"North\",\n",
    "            \"South\",\n",
    "            \"South\",\n",
    "            \"East\",\n",
    "            \"West\"\n",
    "        ],\n",
    "        \"Sales\": [\n",
    "            100,\n",
    "            200,\n",
    "            150,\n",
    "            50,\n",
    "            75,\n",
    "            125\n",
    "        ]\n",
    "    }\n",
    ")\n",
    "df_main"
   ]
  },
  {
   "cell_type": "markdown",
   "metadata": {},
   "source": [
    "## Secondary defs"
   ]
  },
  {
   "cell_type": "code",
   "execution_count": 3,
   "metadata": {},
   "outputs": [],
   "source": [
    "def find_names_using_sell_quantity(\n",
    "        df: pd.DataFrame,\n",
    "        col_name_to_eq: str,\n",
    "        col_name_to_return: str,\n",
    "        max_sells: bool\n",
    ") -> pd.Series:\n",
    "    \n",
    "    names = None\n",
    "\n",
    "    if max_sells:\n",
    "        names = df[\n",
    "            df[col_name_to_eq].eq(\n",
    "                df[col_name_to_eq].max()\n",
    "            )\n",
    "        ][col_name_to_return]  \n",
    "    \n",
    "    if not max_sells:\n",
    "        names = df[\n",
    "            df[col_name_to_eq].eq(\n",
    "                df[col_name_to_eq].min()\n",
    "            )\n",
    "        ][col_name_to_return]\n",
    "\n",
    "    return names\n",
    "\n",
    "\n",
    "def find_region_names_using_sell_quantity(\n",
    "        df: pd.DataFrame,\n",
    "        col_name_to_eq: str,\n",
    "        col_name_to_return: str,\n",
    "        max_sells: bool\n",
    ") -> pd.Series:\n",
    "    \n",
    "    df_grouped: pd.DataFrame = df.groupby(\n",
    "        [\n",
    "            \"Region\"\n",
    "        ],\n",
    "        as_index = False\n",
    "    ).agg(\n",
    "        **{\n",
    "            \"Sales\": (\n",
    "                \"Sales\", \"sum\"\n",
    "            )\n",
    "        }\n",
    "    )\n",
    "\n",
    "    names = find_names_using_sell_quantity(\n",
    "        df_grouped,\n",
    "        col_name_to_eq,\n",
    "        col_name_to_return,\n",
    "        max_sells\n",
    "    )\n",
    "\n",
    "    return names\n",
    "\n",
    "\n",
    "def find_product_names_by_region(\n",
    "        df: pd.DataFrame,\n",
    "        max_sells: bool = True\n",
    ") -> pd.Series:\n",
    "    region_names = find_region_names_using_sell_quantity(\n",
    "        df,\n",
    "        \"Sales\",\n",
    "        \"Region\",\n",
    "        max_sells\n",
    "    )\n",
    "\n",
    "    df_queryed = df[\n",
    "        df[\"Region\"].isin(region_names)\n",
    "    ]\n",
    "\n",
    "    product_names_by_region_name = find_names_using_sell_quantity(\n",
    "        df_queryed,\n",
    "        \"Sales\",\n",
    "        \"Product\",\n",
    "        max_sells\n",
    "    )\n",
    "\n",
    "    return product_names_by_region_name"
   ]
  },
  {
   "cell_type": "markdown",
   "metadata": {},
   "source": [
    "## 1. Какой продукт был продан в наибольшем количестве"
   ]
  },
  {
   "cell_type": "code",
   "execution_count": 4,
   "metadata": {},
   "outputs": [
    {
     "data": {
      "text/plain": [
       "1    Product B\n",
       "Name: Product, dtype: object"
      ]
     },
     "execution_count": 4,
     "metadata": {},
     "output_type": "execute_result"
    }
   ],
   "source": [
    "product_names_hiest_sells = find_names_using_sell_quantity(\n",
    "    df_main,\n",
    "    \"Sales\",\n",
    "    \"Product\",\n",
    "    True\n",
    ")\n",
    "\n",
    "product_names_hiest_sells"
   ]
  },
  {
   "cell_type": "markdown",
   "metadata": {},
   "source": [
    "## 2. Какой продукт был продан в наименьшем количестве"
   ]
  },
  {
   "cell_type": "code",
   "execution_count": 5,
   "metadata": {},
   "outputs": [
    {
     "data": {
      "text/plain": [
       "3    Product D\n",
       "Name: Product, dtype: object"
      ]
     },
     "execution_count": 5,
     "metadata": {},
     "output_type": "execute_result"
    }
   ],
   "source": [
    "product_names_smallest_sells = find_names_using_sell_quantity(\n",
    "    df_main,\n",
    "    \"Sales\",\n",
    "    \"Product\",\n",
    "    False\n",
    ")\n",
    "\n",
    "product_names_smallest_sells"
   ]
  },
  {
   "cell_type": "markdown",
   "metadata": {},
   "source": [
    "## 3. Какой регион показал наибольший объем продаж"
   ]
  },
  {
   "cell_type": "code",
   "execution_count": 6,
   "metadata": {},
   "outputs": [
    {
     "data": {
      "text/plain": [
       "1    North\n",
       "Name: Region, dtype: object"
      ]
     },
     "execution_count": 6,
     "metadata": {},
     "output_type": "execute_result"
    }
   ],
   "source": [
    "region_names_hiest_sells = find_region_names_using_sell_quantity(\n",
    "    df_main,\n",
    "    \"Sales\",\n",
    "    \"Region\",\n",
    "    True\n",
    ")\n",
    "\n",
    "region_names_hiest_sells"
   ]
  },
  {
   "cell_type": "markdown",
   "metadata": {},
   "source": [
    "## 4. Какой регион показал наименьший объем продаж"
   ]
  },
  {
   "cell_type": "code",
   "execution_count": 7,
   "metadata": {},
   "outputs": [
    {
     "data": {
      "text/plain": [
       "0    East\n",
       "Name: Region, dtype: object"
      ]
     },
     "execution_count": 7,
     "metadata": {},
     "output_type": "execute_result"
    }
   ],
   "source": [
    "region_names_smallest_sells = find_region_names_using_sell_quantity(\n",
    "    df_main,\n",
    "    \"Sales\",\n",
    "    \"Region\",\n",
    "    False\n",
    ")\n",
    "\n",
    "region_names_smallest_sells"
   ]
  },
  {
   "cell_type": "markdown",
   "metadata": {},
   "source": [
    "## 5. Какой продукт был продан в наибольшем количестве в регионе с наибольшим объемом продаж"
   ]
  },
  {
   "cell_type": "code",
   "execution_count": 8,
   "metadata": {},
   "outputs": [
    {
     "data": {
      "text/plain": [
       "1    Product B\n",
       "Name: Product, dtype: object"
      ]
     },
     "execution_count": 8,
     "metadata": {},
     "output_type": "execute_result"
    }
   ],
   "source": [
    "product_names_hiest_sells_by_region_name = find_product_names_by_region(\n",
    "    df_main,\n",
    "    True\n",
    ")\n",
    "\n",
    "product_names_hiest_sells_by_region_name"
   ]
  },
  {
   "cell_type": "markdown",
   "metadata": {},
   "source": [
    "## 6. Какой продукт был продан в наименьшем количестве в регионе с наименьшим объемом продаж"
   ]
  },
  {
   "cell_type": "code",
   "execution_count": 9,
   "metadata": {},
   "outputs": [
    {
     "data": {
      "text/plain": [
       "4    Product E\n",
       "Name: Product, dtype: object"
      ]
     },
     "execution_count": 9,
     "metadata": {},
     "output_type": "execute_result"
    }
   ],
   "source": [
    "product_names_smallest_sells_by_region_name = find_product_names_by_region(\n",
    "    df_main,\n",
    "    False\n",
    ")\n",
    "\n",
    "product_names_smallest_sells_by_region_name"
   ]
  }
 ],
 "metadata": {
  "kernelspec": {
   "display_name": "env",
   "language": "python",
   "name": "python3"
  },
  "language_info": {
   "codemirror_mode": {
    "name": "ipython",
    "version": 3
   },
   "file_extension": ".py",
   "mimetype": "text/x-python",
   "name": "python",
   "nbconvert_exporter": "python",
   "pygments_lexer": "ipython3",
   "version": "3.11.6"
  }
 },
 "nbformat": 4,
 "nbformat_minor": 2
}
